{
 "cells": [
  {
   "cell_type": "markdown",
   "metadata": {},
   "source": [
    "# Lab | Functions"
   ]
  },
  {
   "cell_type": "markdown",
   "metadata": {
    "tags": []
   },
   "source": [
    "## Exercise: Managing Customer Orders with Functions\n",
    "\n",
    "In the previous exercise, you improved the code for managing customer orders by using loops and flow control. Now, let's take it a step further and refactor the code by introducing functions.\n",
    "\n",
    "Follow the steps below to complete the exercise:\n",
    "\n",
    "1. Define a function named `initialize_inventory` that takes `products` as a parameter. Inside the function, implement the code for initializing the inventory dictionary using a loop and user input.\n",
    "\n",
    "2. Define a function named `get_customer_orders` that takes no parameters. Inside the function, implement the code for prompting the user to enter the product names using a loop. The function should return the `customer_orders` set.\n",
    "\n",
    "3. Define a function named `update_inventory` that takes `customer_orders` and `inventory` as parameters. Inside the function, implement the code for updating the inventory dictionary based on the customer orders.\n",
    "\n",
    "4. Define a function named `calculate_order_statistics` that takes `customer_orders` and `products` as parameters. Inside the function, implement the code for calculating the order statistics (total products ordered, and percentage of unique products ordered). The function should return these values.\n",
    "\n",
    "5. Define a function named `print_order_statistics` that takes `order_statistics` as a parameter. Inside the function, implement the code for printing the order statistics.\n",
    "\n",
    "6. Define a function named `print_updated_inventory` that takes `inventory` as a parameter. Inside the function, implement the code for printing the updated inventory.\n",
    "\n",
    "7. Call the functions in the appropriate sequence to execute the program and manage customer orders.\n",
    "\n",
    "Hints for functions:\n",
    "\n",
    "- Consider the input parameters required for each function and their return values.\n",
    "- Utilize function parameters and return values to transfer data between functions.\n",
    "- Test your functions individually to ensure they work correctly.\n",
    "\n",
    "\n"
   ]
  },
  {
   "cell_type": "code",
   "execution_count": 56,
   "metadata": {},
   "outputs": [
    {
     "name": "stdout",
     "output_type": "stream",
     "text": [
      "Please input the quantity of product available in the inventory:\n"
     ]
    },
    {
     "name": "stdin",
     "output_type": "stream",
     "text": [
      "Quantity of t-shirt: 50\n",
      "Quantity of mug: 60\n",
      "Quantity of hat: 70\n",
      "Quantity of book: 80\n",
      "Quantity of keychain: 90\n"
     ]
    }
   ],
   "source": [
    "# 1\n",
    "products = [\"t-shirt\", \"mug\", \"hat\", \"book\", \"keychain\"]\n",
    "\n",
    "def initialize_inventory(products):\n",
    "    inventory = {}\n",
    "    print(\"Please input the quantity of product available in the inventory:\")\n",
    "    for product in products:\n",
    "        inventory[product]= int(input(f\"Quantity of {product}:\"))\n",
    "    return inventory\n",
    "\n",
    "inventory = initialize_inventory(products)"
   ]
  },
  {
   "cell_type": "code",
   "execution_count": 57,
   "metadata": {},
   "outputs": [
    {
     "name": "stdin",
     "output_type": "stream",
     "text": [
      "What do you want to order? mug\n",
      "Do you want to add another product? (Yes/No) yes\n",
      "What do you want to order? keychain\n",
      "Do you want to add another product? (Yes/No) no\n"
     ]
    },
    {
     "name": "stdout",
     "output_type": "stream",
     "text": [
      "Thank you for your orders!\n"
     ]
    }
   ],
   "source": [
    "# 2\n",
    "\n",
    "def get_customer_orders():\n",
    "    customer_orders = set()\n",
    "    order_again = \"yes\"\n",
    "    while order_again == \"yes\" :\n",
    "        order = input(\"What do you want to order?\").strip().lower()\n",
    "        customer_orders.add(order)\n",
    "        order_again = input(\"Do you want to add another product? (Yes/No)\").strip().lower()\n",
    "        if order_again == \"no\":\n",
    "            print(\"Thank you for your orders!\")\n",
    "    return customer_orders\n",
    "\n",
    "customer_orders = get_customer_orders()"
   ]
  },
  {
   "cell_type": "code",
   "execution_count": 58,
   "metadata": {},
   "outputs": [],
   "source": [
    "# 3\n",
    "def update_inventory(customer_orders,inventory):\n",
    "    for product in customer_orders:\n",
    "        if product in inventory:\n",
    "            inventory[product] -= 1\n",
    "        \n",
    "update_inventory(customer_orders,inventory)"
   ]
  },
  {
   "cell_type": "code",
   "execution_count": 59,
   "metadata": {},
   "outputs": [
    {
     "name": "stdout",
     "output_type": "stream",
     "text": [
      "(2, 40)\n"
     ]
    }
   ],
   "source": [
    "# 4\n",
    "def calculate_order_statistics(customer_orders,products):\n",
    "    total_products_ordered = len(customer_orders)\n",
    "    percentage_products_ordered =  int(len(customer_orders)/len(products)*100)\n",
    "    return total_products_ordered, percentage_products_ordered\n",
    "\n",
    "order_statistics = calculate_order_statistics(customer_orders,products)\n",
    "print(order_statistics)"
   ]
  },
  {
   "cell_type": "code",
   "execution_count": 60,
   "metadata": {},
   "outputs": [
    {
     "name": "stdout",
     "output_type": "stream",
     "text": [
      "Order Statistics:\n",
      "Total Products Ordered: 2\n",
      "Percentage of Products Ordered: 40 %\n"
     ]
    }
   ],
   "source": [
    "# 5\n",
    "\n",
    "def print_order_statistics(order_statistics):\n",
    "    print(\"Order Statistics:\")\n",
    "    print(\"Total Products Ordered:\", order_statistics[0])\n",
    "    print(\"Percentage of Products Ordered:\", order_statistics[1],\"%\")\n",
    "    \n",
    "\n",
    "print_order_statistics(order_statistics)"
   ]
  },
  {
   "cell_type": "code",
   "execution_count": 61,
   "metadata": {},
   "outputs": [
    {
     "name": "stdout",
     "output_type": "stream",
     "text": [
      "Updated inventory:\n",
      "Quantity of t-shirt: 50\n",
      "Quantity of mug: 59\n",
      "Quantity of hat: 70\n",
      "Quantity of book: 80\n",
      "Quantity of keychain: 89\n"
     ]
    }
   ],
   "source": [
    "# 6 \n",
    "\n",
    "def print_updated_inventory(inventory):\n",
    "    print(\"Updated inventory:\")\n",
    "    for key, value in inventory.items():\n",
    "        print(f\"Quantity of {key}:\",value)\n",
    "        \n",
    "print_updated_inventory(inventory)"
   ]
  },
  {
   "cell_type": "code",
   "execution_count": 63,
   "metadata": {},
   "outputs": [
    {
     "name": "stdout",
     "output_type": "stream",
     "text": [
      "Please input the quantity of product available in the inventory:\n"
     ]
    },
    {
     "name": "stdin",
     "output_type": "stream",
     "text": [
      "Quantity of t-shirt: 50\n",
      "Quantity of mug: 60\n",
      "Quantity of hat: 70\n",
      "Quantity of book: 80\n",
      "Quantity of keychain: 90\n",
      "What do you want to order? hat\n",
      "Do you want to add another product? (Yes/No) yes\n",
      "What do you want to order? mug\n",
      "Do you want to add another product? (Yes/No) yes\n",
      "What do you want to order? keychain\n",
      "Do you want to add another product? (Yes/No) no\n"
     ]
    },
    {
     "name": "stdout",
     "output_type": "stream",
     "text": [
      "Thank you for your orders!\n",
      "Order Statistics:\n",
      "Total Products Ordered: 3\n",
      "Percentage of Products Ordered: 60 %\n",
      "Updated inventory:\n",
      "Quantity of t-shirt: 50\n",
      "Quantity of mug: 59\n",
      "Quantity of hat: 69\n",
      "Quantity of book: 80\n",
      "Quantity of keychain: 89\n"
     ]
    }
   ],
   "source": [
    "# 7\n",
    "\n",
    "# Step 1: Define the products list\n",
    "products = [\"t-shirt\", \"mug\", \"hat\", \"book\", \"keychain\"]\n",
    "\n",
    "# Step 2: Initialize the inventory\n",
    "inventory = initialize_inventory(products)\n",
    "\n",
    "# Step 3: Get customer orders\n",
    "customer_orders = get_customer_orders()\n",
    "    \n",
    "# Step 4: Update the inventory\n",
    "update_inventory(customer_orders,inventory)\n",
    "\n",
    "# Step 5: Calculate order statistics\n",
    "order_statistics = calculate_order_statistics(customer_orders, products)\n",
    "\n",
    "# Step 6: Print the order statistics\n",
    "print_order_statistics(order_statistics)\n",
    "\n",
    "# Step 7: Print the updated inventory\n",
    "print_updated_inventory(inventory)\n",
    "\n"
   ]
  }
 ],
 "metadata": {
  "kernelspec": {
   "display_name": "Python 3",
   "language": "python",
   "name": "python3"
  },
  "language_info": {
   "codemirror_mode": {
    "name": "ipython",
    "version": 3
   },
   "file_extension": ".py",
   "mimetype": "text/x-python",
   "name": "python",
   "nbconvert_exporter": "python",
   "pygments_lexer": "ipython3",
   "version": "3.7.4"
  }
 },
 "nbformat": 4,
 "nbformat_minor": 5
}
